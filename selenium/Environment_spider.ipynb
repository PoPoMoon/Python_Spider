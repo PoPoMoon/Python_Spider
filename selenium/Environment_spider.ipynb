{
 "cells": [
  {
   "cell_type": "code",
   "execution_count": 1,
   "metadata": {
    "scrolled": true
   },
   "outputs": [
    {
     "name": "stdout",
     "output_type": "stream",
     "text": [
      "第 12 個\n",
      "C0AI30\n",
      "三重\n",
      "https://e-service.cwb.gov.tw/HistoryDataQuery/MonthDataController.do?command=viewMain&station=C0AI30&stname=%25E4%25B8%2589%25E9%2587%258D&datepicker=2021-03#\n",
      "下載第 2021 年 3 月\n",
      "下載第 2021 年 2 月\n"
     ]
    },
    {
     "ename": "KeyboardInterrupt",
     "evalue": "",
     "output_type": "error",
     "traceback": [
      "\u001b[1;31m---------------------------------------------------------------------------\u001b[0m",
      "\u001b[1;31mKeyboardInterrupt\u001b[0m                         Traceback (most recent call last)",
      "\u001b[1;32m<ipython-input-1-d0053c05cb7f>\u001b[0m in \u001b[0;36m<module>\u001b[1;34m\u001b[0m\n\u001b[0;32m     77\u001b[0m \u001b[1;33m\u001b[0m\u001b[0m\n\u001b[0;32m     78\u001b[0m \u001b[1;32mif\u001b[0m \u001b[0m__name__\u001b[0m\u001b[1;33m==\u001b[0m\u001b[1;34m'__main__'\u001b[0m\u001b[1;33m:\u001b[0m\u001b[1;33m\u001b[0m\u001b[1;33m\u001b[0m\u001b[0m\n\u001b[1;32m---> 79\u001b[1;33m     \u001b[0mcom_html\u001b[0m\u001b[1;33m(\u001b[0m\u001b[1;33m)\u001b[0m\u001b[1;33m\u001b[0m\u001b[1;33m\u001b[0m\u001b[0m\n\u001b[0m\u001b[0;32m     80\u001b[0m \u001b[1;31m#     visite()\u001b[0m\u001b[1;33m\u001b[0m\u001b[1;33m\u001b[0m\u001b[1;33m\u001b[0m\u001b[0m\n\u001b[0;32m     81\u001b[0m \u001b[1;33m\u001b[0m\u001b[0m\n",
      "\u001b[1;32m<ipython-input-1-d0053c05cb7f>\u001b[0m in \u001b[0;36mcom_html\u001b[1;34m()\u001b[0m\n\u001b[0;32m     39\u001b[0m         \u001b[0mstation_name\u001b[0m\u001b[1;33m=\u001b[0m\u001b[0mdecode\u001b[0m\u001b[1;33m(\u001b[0m\u001b[0mtext\u001b[0m\u001b[1;33m[\u001b[0m\u001b[1;36m1\u001b[0m\u001b[1;33m]\u001b[0m\u001b[1;33m)\u001b[0m\u001b[1;33m\u001b[0m\u001b[1;33m\u001b[0m\u001b[0m\n\u001b[0;32m     40\u001b[0m         \u001b[0murl\u001b[0m\u001b[1;33m=\u001b[0m\u001b[1;34mf'https://e-service.cwb.gov.tw/HistoryDataQuery/MonthDataController.do?command=viewMain&station={text[0]}&stname={text[1]}&datepicker=2021-03#'\u001b[0m\u001b[1;33m\u001b[0m\u001b[1;33m\u001b[0m\u001b[0m\n\u001b[1;32m---> 41\u001b[1;33m         \u001b[0mvisite\u001b[0m\u001b[1;33m(\u001b[0m\u001b[0murl\u001b[0m\u001b[1;33m)\u001b[0m\u001b[1;33m\u001b[0m\u001b[1;33m\u001b[0m\u001b[0m\n\u001b[0m\u001b[0;32m     42\u001b[0m \u001b[1;33m\u001b[0m\u001b[0m\n\u001b[0;32m     43\u001b[0m     \u001b[0mdriver\u001b[0m\u001b[1;33m.\u001b[0m\u001b[0mclose\u001b[0m\u001b[1;33m(\u001b[0m\u001b[1;33m)\u001b[0m\u001b[1;33m\u001b[0m\u001b[1;33m\u001b[0m\u001b[0m\n",
      "\u001b[1;32m<ipython-input-1-d0053c05cb7f>\u001b[0m in \u001b[0;36mvisite\u001b[1;34m(url)\u001b[0m\n\u001b[0;32m     57\u001b[0m             \u001b[0myear\u001b[0m\u001b[1;33m-=\u001b[0m\u001b[1;36m1\u001b[0m\u001b[1;33m\u001b[0m\u001b[1;33m\u001b[0m\u001b[0m\n\u001b[0;32m     58\u001b[0m         \u001b[0mnext_page\u001b[0m\u001b[1;33m(\u001b[0m\u001b[1;33m)\u001b[0m\u001b[1;33m\u001b[0m\u001b[1;33m\u001b[0m\u001b[0m\n\u001b[1;32m---> 59\u001b[1;33m         \u001b[0mdownload\u001b[0m\u001b[1;33m(\u001b[0m\u001b[1;33m)\u001b[0m\u001b[1;33m\u001b[0m\u001b[1;33m\u001b[0m\u001b[0m\n\u001b[0m\u001b[0;32m     60\u001b[0m \u001b[1;31m#         print('下載第',i+2,'次')\u001b[0m\u001b[1;33m\u001b[0m\u001b[1;33m\u001b[0m\u001b[1;33m\u001b[0m\u001b[0m\n\u001b[0;32m     61\u001b[0m \u001b[1;33m\u001b[0m\u001b[0m\n",
      "\u001b[1;32m<ipython-input-1-d0053c05cb7f>\u001b[0m in \u001b[0;36mdownload\u001b[1;34m()\u001b[0m\n\u001b[0;32m     61\u001b[0m \u001b[1;33m\u001b[0m\u001b[0m\n\u001b[0;32m     62\u001b[0m \u001b[1;32mdef\u001b[0m \u001b[0mdownload\u001b[0m\u001b[1;33m(\u001b[0m\u001b[1;33m)\u001b[0m\u001b[1;33m:\u001b[0m\u001b[1;33m\u001b[0m\u001b[1;33m\u001b[0m\u001b[0m\n\u001b[1;32m---> 63\u001b[1;33m     \u001b[0msleep\u001b[0m\u001b[1;33m(\u001b[0m\u001b[1;36m1\u001b[0m\u001b[1;33m)\u001b[0m\u001b[1;33m\u001b[0m\u001b[1;33m\u001b[0m\u001b[0m\n\u001b[0m\u001b[0;32m     64\u001b[0m     \u001b[0mdriver\u001b[0m\u001b[1;33m.\u001b[0m\u001b[0mfind_element\u001b[0m\u001b[1;33m(\u001b[0m\u001b[0mBy\u001b[0m\u001b[1;33m.\u001b[0m\u001b[0mCSS_SELECTOR\u001b[0m\u001b[1;33m,\u001b[0m\u001b[1;34m\"div tr td a#downloadCSV\"\u001b[0m\u001b[1;33m)\u001b[0m\u001b[1;33m.\u001b[0m\u001b[0mclick\u001b[0m\u001b[1;33m(\u001b[0m\u001b[1;33m)\u001b[0m\u001b[1;33m\u001b[0m\u001b[1;33m\u001b[0m\u001b[0m\n\u001b[0;32m     65\u001b[0m     \u001b[0msleep\u001b[0m\u001b[1;33m(\u001b[0m\u001b[1;36m1\u001b[0m\u001b[1;33m)\u001b[0m\u001b[1;33m\u001b[0m\u001b[1;33m\u001b[0m\u001b[0m\n",
      "\u001b[1;31mKeyboardInterrupt\u001b[0m: "
     ]
    }
   ],
   "source": [
    "from selenium import webdriver \n",
    "from selenium.webdriver.common.by import By\n",
    "from time import sleep\n",
    "from urllib import parse\n",
    "from pathlib import Path\n",
    "import json\n",
    "from urllib import parse\n",
    "\n",
    "# url='https://e-service.cwb.gov.tw/HistoryDataQuery/MonthDataController.do?command=viewMain&station=466910&stname=%25E9%259E%258D%25E9%2583%25A8&datepicker=2021-03#'     \n",
    "\n",
    "options = webdriver.ChromeOptions()\n",
    "options.add_argument(\"--start-maximized\")       \n",
    "options.add_argument(\"--incognito\")\n",
    "options.add_argument(\"--disable-popup-blocking \")\n",
    "\n",
    "\n",
    "# 下面為更改下載目錄位址\n",
    "# 資策會為 C:\\Download\\Taipei 根據目前要下載一個縣市，目錄名稱要改喔!\n",
    "# 縣市有 Taipei,New_TaipeiCity,TaoyuanCity,HsinchuCity,HsinchuCounty,MiaoliCounty,Taichung,Changhua\n",
    "# Nantou,Yunlin,Chiayi_City,Chiayi_County,Tainan,Kaohsiung,Pingtung,Taitung,Hualien,Yilan,Keelung\n",
    "out_path=\"D:\\\\Download\\\\New_TaipeiCity\"    # 後面可以改目前要放在哪個目錄(如果沒有目錄會自己建立)\n",
    "\n",
    "\n",
    "prefs = {'profile.default_content_settings.popups': 0, 'download.default_directory': out_path}\n",
    "options.add_experimental_option('prefs', prefs)\n",
    "driver = webdriver.Chrome(options=options)\n",
    "\n",
    "def com_html():\n",
    "#    這裡位置要放對喔!\n",
    "    data = Path(\"D:\\\\Download\\\\all_station.json\").read_text()\n",
    "    thing = json.loads(data)\n",
    "#     print(thing)\n",
    "    i=12\n",
    "    for text in thing['New_TaipeiCity'][34:35]:       # 這裡記得也要改，現在要下載哪一個城市的[:] 為之前載到一半接續\n",
    "        print('第',i,'個')\n",
    "        i+=1\n",
    "        print(text[0])\n",
    "#         text=[\"466910\", \"%25E9%259E%258D%25E9%2583%25A8\"]\n",
    "        station_name=decode(text[1])\n",
    "        url=f'https://e-service.cwb.gov.tw/HistoryDataQuery/MonthDataController.do?command=viewMain&station={text[0]}&stname={text[1]}&datepicker=2021-03#'\n",
    "        visite(url)\n",
    "    \n",
    "    driver.close()\n",
    "def visite(url):\n",
    "      \n",
    "    print(url)\n",
    "    driver.get(url)\n",
    "    download()\n",
    "#     print('下載第',1,'次')\n",
    "    month=3\n",
    "    year=2021\n",
    "    for i in range(254):\n",
    "        print('下載第',year,'年',month,'月')\n",
    "        month-=1\n",
    "        if month==0:\n",
    "            month=12\n",
    "            year-=1\n",
    "        next_page()\n",
    "        download()\n",
    "#         print('下載第',i+2,'次')\n",
    "    \n",
    "def download():\n",
    "    sleep(1)\n",
    "    driver.find_element(By.CSS_SELECTOR,\"div tr td a#downloadCSV\").click()\n",
    "    sleep(1)\n",
    "    \n",
    "def next_page():\n",
    "    sleep(1)\n",
    "    driver.find_element(By.CSS_SELECTOR,\"div#hea_t a#preItem input\").click()\n",
    "    sleep(1)\n",
    "\n",
    "def decode(text):\n",
    "    text=text.replace('%25','%')\n",
    "    name=parse.unquote(text)\n",
    "    print(name)\n",
    "    return name\n",
    "       \n",
    "if __name__=='__main__':\n",
    "    com_html()\n",
    "#     visite()\n",
    "    \n",
    "      "
   ]
  }
 ],
 "metadata": {
  "kernelspec": {
   "display_name": "Python 3",
   "language": "python",
   "name": "python3"
  },
  "language_info": {
   "codemirror_mode": {
    "name": "ipython",
    "version": 3
   },
   "file_extension": ".py",
   "mimetype": "text/x-python",
   "name": "python",
   "nbconvert_exporter": "python",
   "pygments_lexer": "ipython3",
   "version": "3.8.5"
  }
 },
 "nbformat": 4,
 "nbformat_minor": 4
}
